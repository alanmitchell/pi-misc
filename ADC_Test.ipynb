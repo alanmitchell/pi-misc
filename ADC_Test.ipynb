{
 "cells": [
  {
   "cell_type": "markdown",
   "metadata": {},
   "source": [
    "# Experiments with the ADS1015 ADC\n",
    "\n",
    "Using the Adafruit breakout board."
   ]
  },
  {
   "cell_type": "code",
   "execution_count": 1,
   "metadata": {},
   "outputs": [],
   "source": [
    "import time\n",
    "import board\n",
    "import busio\n",
    "import adafruit_ads1x15.ads1015 as ADS\n",
    "from adafruit_ads1x15.ads1x15 import Mode\n",
    "from adafruit_ads1x15.analog_in import AnalogIn\n",
    "import numpy as np\n",
    "\n",
    "# import matplotlib pyplot commands\n",
    "from matplotlib.pyplot import *\n",
    " \n",
    "# Show Plots in the Notebook\n",
    "%matplotlib inline\n",
    " \n",
    "# 'style' the plot like fivethirtyeight.com website\n",
    "style.use('bmh')"
   ]
  },
  {
   "cell_type": "code",
   "execution_count": 2,
   "metadata": {},
   "outputs": [],
   "source": [
    "rcParams['figure.figsize']= (10, 8)   # set Chart Size\n",
    "rcParams['font.size'] = 14            # set Font size in Chart"
   ]
  },
  {
   "cell_type": "code",
   "execution_count": 24,
   "metadata": {},
   "outputs": [
    {
     "name": "stdout",
     "output_type": "stream",
     "text": [
      "0.2017268800000238, 2478.5987866363716, 0.130540124357937\n",
      "0.18011442499982877, 2776.0130816866854, 0.13008609012884179\n",
      "0.19030921100011255, 2627.3032049915037, 0.1313434083118093\n",
      "0.2873947040002349, 1739.7676193768389, 0.13069673509483015\n",
      "0.187279677999868, 2669.8038214287853, 0.13012335469404832\n",
      "0.20139779100009036, 2482.6488787048097, 0.13077283272476461\n",
      "0.17967763000024206, 2782.761549110629, 0.1298146006365059\n",
      "0.23990184500007672, 2084.185721872377, 0.12999828249306417\n",
      "0.3498098019999816, 1429.348169037374, 0.13043091017011293\n",
      "0.17950582599996778, 2785.424914287126, 0.13042775884615543\n",
      "0.1994642899999235, 2506.7143597492654, 0.13035004810416392\n",
      "0.17946500700008983, 2786.0584542798906, 0.13135436453589916\n",
      "0.29844807600011336, 1675.3332998528363, 0.12917971397411304\n",
      "0.34276859300007345, 1458.7100749918848, 0.13112712702642595\n",
      "0.17894412699979512, 2794.1682601327984, 0.13051371440040324\n",
      "0.19051960399974632, 2624.401843710875, 0.12979223468308565\n",
      "0.1790034079999714, 2793.242908537696, 0.13102127212221457\n",
      "0.28065227000024606, 1781.564068587657, 0.1309105495306732\n",
      "0.35947552900006485, 1390.9152631079646, 0.13029976301127516\n",
      "0.17928776700000526, 2788.8126912751686, 0.1313038699854067\n",
      "Std Dev: 0.0005651082473179797\n"
     ]
    }
   ],
   "source": [
    "# only certain discrete rates are allowed.  3300 is the highest\n",
    "RATE = 3300\n",
    "\n",
    "# Create the I2C bus\n",
    "i2c = busio.I2C(board.SCL, board.SDA)\n",
    "\n",
    "# Create the ADC object using the I2C bus\n",
    "ads = ADS.ADS1015(i2c, address=0x49)\n",
    "ads.gain = 2     # only discrete values allowed\n",
    "\n",
    "# Create single-ended input on channel 0\n",
    "#chan = AnalogIn(ads, ADS.P0)\n",
    "\n",
    "# Create differential input between channel x and 3\n",
    "# P0 - P2 can be measured relative to P3. No other pin can\n",
    "# be the common for all channels.\n",
    "chan = AnalogIn(ads, ADS.P2, ADS.P3)\n",
    "\n",
    "ads.mode = Mode.CONTINUOUS\n",
    "ads.data_rate = RATE\n",
    "\n",
    "# Investigate how many samples are needed to minimize Sampling error.\n",
    "SAMPLES = 500\n",
    "data = [None] * SAMPLES\n",
    "arr_rms = []\n",
    "for i in range(20):\n",
    "    st = time.monotonic()\n",
    "    for i in range(SAMPLES):\n",
    "        data[i] = chan.voltage\n",
    "        #time.sleep(.5)\n",
    "    en = time.monotonic()\n",
    "    tot_time = en - st\n",
    "    print(tot_time, end=', ')\n",
    "    print(SAMPLES / tot_time, end=', ')\n",
    "    arr = np.array(data)\n",
    "    arr2 = arr * arr\n",
    "    rms = arr2.mean() ** 0.5\n",
    "    print(rms)\n",
    "    arr_rms.append(rms)\n",
    "arr_rms = np.array(arr_rms)\n",
    "print(f'Std Dev: {arr_rms.std()}')"
   ]
  },
  {
   "cell_type": "code",
   "execution_count": 9,
   "metadata": {},
   "outputs": [
    {
     "name": "stdout",
     "output_type": "stream",
     "text": [
      "0.1310\n"
     ]
    }
   ],
   "source": [
    "n = 10\n",
    "iter_sum = 0.0\n",
    "for i in range(10):\n",
    "    for i in range(SAMPLES):\n",
    "        data[i] = chan.voltage\n",
    "    arr = np.array(data)\n",
    "    arr2 = arr * arr\n",
    "    rms = arr2.mean() ** 0.5\n",
    "    iter_sum += rms\n",
    "    #print(f'{rms:.3f}')\n",
    "    #time.sleep(.3)\n",
    "print(f'{iter_sum / n:.4f}')"
   ]
  },
  {
   "cell_type": "code",
   "execution_count": 264,
   "metadata": {
    "scrolled": false
   },
   "outputs": [
    {
     "data": {
      "text/plain": [
       "[<matplotlib.lines.Line2D at 0xad43f570>]"
      ]
     },
     "execution_count": 264,
     "metadata": {},
     "output_type": "execute_result"
    },
    {
     "data": {
      "image/png": "[encoded data removed]",
      "text/plain": [
       "<Figure size 720x576 with 1 Axes>"
      ]
     },
     "metadata": {
      "needs_background": "light"
     },
     "output_type": "display_data"
    }
   ],
   "source": [
    "plot(data[:50], 'bo')"
   ]
  },
  {
   "cell_type": "code",
   "execution_count": 226,
   "metadata": {},
   "outputs": [
    {
     "name": "stdout",
     "output_type": "stream",
     "text": [
      "[(1571897094.993461, 'test_uptime', 90800, 3),\n",
      " (1571897094.993461, 'test_cpu_temp', 61.348, 1),\n",
      " (1571897094.993461, 'test_version', 0.0, 2)]\n"
     ]
    }
   ],
   "source": [
    "#!/usr/bin/env python3\n",
    "\"\"\"Reader module for reporting information about the operation\n",
    "of the monitoring system.\n",
    "\"\"\"\n",
    "import time\n",
    "import base_reader\n",
    "import board\n",
    "import busio\n",
    "import adafruit_ads1x15.ads1015 as ADS\n",
    "from adafruit_ads1x15.ads1x15 import Mode\n",
    "from adafruit_ads1x15.analog_in import AnalogIn\n",
    "import numpy as np\n",
    "\n",
    "SAMPLES = 500  # samples per channel to calculate RMS\n",
    "RATE = 3300    # samples/second, fastest rate available\n",
    "\n",
    "class RMS_3ch(base_reader.Reader):\n",
    "    \n",
    "    def read(self):\n",
    "\n",
    "        # Create the I2C bus\n",
    "        i2c = busio.I2C(board.SCL, board.SDA)\n",
    "\n",
    "        # Create the ADC object using the I2C bus\n",
    "        ads = ADS.ADS1015(i2c)\n",
    "        ads.gain = 2    # only discrete values allowed\n",
    "        ads.mode = Mode.CONTINUOUS\n",
    "        ads.data_rate = RATE\n",
    "        \n",
    "        # Channels to cycle through and read, along with channel number identifier\n",
    "        channels = [\n",
    "            (ADS.P0, 0),\n",
    "            (ADS.P1, 1),\n",
    "            (ADS.P2, 2)\n",
    "        ]\n",
    "\n",
    "        # use the same timestamp for all three channels\n",
    "        ts = time.time()\n",
    "        data = [None] * SAMPLES\n",
    "        readings = []\n",
    "\n",
    "        for ads_ch, ch_id in channels:\n",
    "            sensor_id = f'{self._settings.LOGGER_ID}_ch{ch_id}'\n",
    "\n",
    "            # Create differential input between this channel and channel 3.\n",
    "            chan = AnalogIn(ads, ads_ch, ADS.P3)\n",
    "            \n",
    "            for i in range(SAMPLES):\n",
    "                data[i] = chan.voltage\n",
    "            arr = np.array(data)\n",
    "            arr2 = arr * arr\n",
    "            rms = arr2.mean() ** 0.5\n",
    "            readings.append((ts, sensor_id, rms, base_reader.VALUE))\n",
    "\n",
    "        return readings\n"
   ]
  }
 ],
 "metadata": {
  "kernelspec": {
   "display_name": "Python 3",
   "language": "python",
   "name": "python3"
  },
  "language_info": {
   "codemirror_mode": {
    "name": "ipython",
    "version": 3
   },
   "file_extension": ".py",
   "mimetype": "text/x-python",
   "name": "python",
   "nbconvert_exporter": "python",
   "pygments_lexer": "ipython3",
   "version": "3.7.3"
  }
 },
 "nbformat": 4,
 "nbformat_minor": 2
}
